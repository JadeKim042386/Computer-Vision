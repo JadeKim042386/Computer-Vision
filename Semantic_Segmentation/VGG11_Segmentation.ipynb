{
 "cells": [
  {
   "cell_type": "markdown",
   "source": [
    "## Backbone"
   ],
   "metadata": {}
  },
  {
   "cell_type": "code",
   "execution_count": 1,
   "source": [
    "import torch\r\n",
    "import torch.nn as nn\r\n",
    "\r\n",
    "class VGG11BackBone(nn.Module):\r\n",
    "\r\n",
    "  def __init__(self):\r\n",
    "    super(VGG11BackBone, self).__init__()\r\n",
    "\r\n",
    "    self.relu = nn.ReLU(inplace=True)\r\n",
    "    \r\n",
    "    # Convolution Feature Extraction Part\r\n",
    "    self.conv1 = nn.Conv2d(3, 64, kernel_size=3, padding=1)\r\n",
    "    self.bn1   = nn.BatchNorm2d(64)\r\n",
    "    self.pool1 = nn.MaxPool2d(kernel_size=2, stride=2)\r\n",
    "\r\n",
    "    self.conv2 = nn.Conv2d(64, 128, kernel_size=3, padding=1)\r\n",
    "    self.bn2   = nn.BatchNorm2d(128)\r\n",
    "    self.pool2 = nn.MaxPool2d(kernel_size=2, stride=2)\r\n",
    "\r\n",
    "    self.conv3_1 = nn.Conv2d(128, 256, kernel_size=3, padding=1)\r\n",
    "    self.bn3_1   = nn.BatchNorm2d(256)\r\n",
    "    self.conv3_2 = nn.Conv2d(256, 256, kernel_size=3, padding=1)\r\n",
    "    self.bn3_2   = nn.BatchNorm2d(256)\r\n",
    "    self.pool3   = nn.MaxPool2d(kernel_size=2, stride=2)\r\n",
    "\r\n",
    "    self.conv4_1 = nn.Conv2d(256, 512, kernel_size=3, padding=1)\r\n",
    "    self.bn4_1   = nn.BatchNorm2d(512)\r\n",
    "    self.conv4_2 = nn.Conv2d(512, 512, kernel_size=3, padding=1)\r\n",
    "    self.bn4_2   = nn.BatchNorm2d(512)\r\n",
    "    self.pool4   = nn.MaxPool2d(kernel_size=2, stride=2)\r\n",
    "\r\n",
    "    self.conv5_1 = nn.Conv2d(512, 512, kernel_size=3, padding=1)\r\n",
    "    self.bn5_1   = nn.BatchNorm2d(512)\r\n",
    "    self.conv5_2 = nn.Conv2d(512, 512, kernel_size=3, padding=1)\r\n",
    "    self.bn5_2   = nn.BatchNorm2d(512)\r\n",
    "  \r\n",
    "  def forward(self, x):\r\n",
    "    x = self.conv1(x)\r\n",
    "    x = self.bn1(x)\r\n",
    "    x = self.relu(x)\r\n",
    "    x = self.pool1(x)\r\n",
    "\r\n",
    "    x = self.conv2(x)\r\n",
    "    x = self.bn2(x)\r\n",
    "    x = self.relu(x)\r\n",
    "    x = self.pool2(x)\r\n",
    "\r\n",
    "    x = self.conv3_1(x)\r\n",
    "    x = self.bn3_1(x)\r\n",
    "    x = self.relu(x)\r\n",
    "    x = self.conv3_2(x)\r\n",
    "    x = self.bn3_2(x)\r\n",
    "    x = self.relu(x)\r\n",
    "    x = self.pool3(x)\r\n",
    "\r\n",
    "    x = self.conv4_1(x)\r\n",
    "    x = self.bn4_1(x)\r\n",
    "    x = self.relu(x)\r\n",
    "    x = self.conv4_2(x)\r\n",
    "    x = self.bn4_2(x)\r\n",
    "    x = self.relu(x)\r\n",
    "    x = self.pool4(x)\r\n",
    "\r\n",
    "    x = self.conv5_1(x)\r\n",
    "    x = self.bn5_1(x)\r\n",
    "    x = self.relu(x)\r\n",
    "    x = self.conv5_2(x)\r\n",
    "    x = self.bn5_2(x)\r\n",
    "    x = self.relu(x)\r\n",
    "\r\n",
    "    return x"
   ],
   "outputs": [],
   "metadata": {}
  },
  {
   "cell_type": "markdown",
   "source": [
    "## VGG11_Segmentation"
   ],
   "metadata": {}
  },
  {
   "cell_type": "code",
   "execution_count": null,
   "source": [
    "class VGG11Segmentation(nn.Module):\r\n",
    "  def __init__(self, num_classes = 7):\r\n",
    "    super(VGG11Segmentation, self).__init__()\r\n",
    "\r\n",
    "    self.backbone = VGG11BackBone()\r\n",
    "\r\n",
    "    with torch.no_grad():\r\n",
    "      self.conv_out = nn.Conv2d(512, num_classes, kernel_size=1)\r\n",
    "  \r\n",
    "    self.upsample = torch.nn.Upsample(scale_factor=16, mode='bilinear', align_corners=False)\r\n",
    "\r\n",
    "  def forward(self, x):\r\n",
    "    x = self.backbone(x)\r\n",
    "    x = self.conv_out(x)\r\n",
    "    x = self.upsample(x)\r\n",
    "    assert x.shape == (1, 7, 224, 224)\r\n",
    "\r\n",
    "    return x\r\n",
    "\r\n",
    "\r\n",
    "  def copy_last_layer(self, fc_out):\r\n",
    "    reshaped_fc_out = fc_out.weight.detach()\r\n",
    "    reshaped_fc_out = torch.reshape(reshaped_fc_out, (7, 512, 1, 1))\r\n",
    "    self.conv_out.weight = nn.Parameter(reshaped_fc_out)\r\n",
    "\r\n",
    "    assert self.conv_out.weight[0][0] == fc_out.weight[0][0]\r\n",
    "    \r\n",
    "    return "
   ],
   "outputs": [],
   "metadata": {}
  }
 ],
 "metadata": {
  "orig_nbformat": 4,
  "language_info": {
   "name": "python",
   "version": "3.8.8",
   "mimetype": "text/x-python",
   "codemirror_mode": {
    "name": "ipython",
    "version": 3
   },
   "pygments_lexer": "ipython3",
   "nbconvert_exporter": "python",
   "file_extension": ".py"
  },
  "kernelspec": {
   "name": "python3",
   "display_name": "Python 3.8.8 64-bit ('base': conda)"
  },
  "interpreter": {
   "hash": "c18c2ce2eeff7956326c52dfc6c88194418eebb74e6de9b69ae4a4f626458f80"
  }
 },
 "nbformat": 4,
 "nbformat_minor": 2
}