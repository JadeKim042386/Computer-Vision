{
 "cells": [
  {
   "cell_type": "markdown",
   "source": [
    "![deform_cnn](../images/deform_cnn.png)"
   ],
   "metadata": {}
  },
  {
   "cell_type": "markdown",
   "source": [
    "## DeformConvNet"
   ],
   "metadata": {}
  },
  {
   "cell_type": "code",
   "execution_count": null,
   "source": [
    "# https://github.com/oeway/pytorch-deform-conv\r\n",
    "class DeformConvNet(nn.Module):\r\n",
    "    def __init__(self):\r\n",
    "        super(DeformConvNet, self).__init__()\r\n",
    "        \r\n",
    "        # conv11\r\n",
    "        self.conv11 = nn.Conv2d(1, 32, 3, padding=1)\r\n",
    "        self.bn11 = nn.BatchNorm2d(32)\r\n",
    "\r\n",
    "        # conv12\r\n",
    "        self.offset12 = ConvOffset2D(32)\r\n",
    "        self.conv12 = nn.Conv2d(32, 64, 3, padding=1, stride=2)\r\n",
    "        self.bn12 = nn.BatchNorm2d(64)\r\n",
    "\r\n",
    "        # conv21\r\n",
    "        self.offset21 = ConvOffset2D(64)\r\n",
    "        self.conv21 = nn.Conv2d(64, 128, 3, padding= 1)\r\n",
    "        self.bn21 = nn.BatchNorm2d(128)\r\n",
    "\r\n",
    "        # conv22\r\n",
    "        self.offset22 = ConvOffset2D(128)\r\n",
    "        self.conv22 = nn.Conv2d(128, 128, 3, padding=1, stride=2)\r\n",
    "        self.bn22 = nn.BatchNorm2d(128)\r\n",
    "\r\n",
    "        # out\r\n",
    "        self.fc = nn.Linear(128, 10)\r\n",
    "\r\n",
    "    def forward(self, x):\r\n",
    "        x = self.conv11(x)\r\n",
    "        x = self.bn11(x)\r\n",
    "        x = F.relu(x)\r\n",
    "        \r\n",
    "        x = self.offset12(x)\r\n",
    "        x = self.conv12(x)\r\n",
    "        x = self.bn12(x)\r\n",
    "        x = F.relu(x)\r\n",
    "        \r\n",
    "        x = self.offset21(x)\r\n",
    "        x = self.conv21(x)\r\n",
    "        x = self.bn21(x)\r\n",
    "        x = F.relu(x)\r\n",
    "        \r\n",
    "        x = self.offset22(x)\r\n",
    "        x = self.conv22(x)\r\n",
    "        x = self.bn22(x)\r\n",
    "        x = F.relu(x)\r\n",
    "        \r\n",
    "        x = F.avg_pool2d(x, kernel_size=[x.size(2), x.size(3)])\r\n",
    "        x = self.fc(x.view(x.size()[:2]))\r\n",
    "        x = F.softmax(x)\r\n",
    "        return x"
   ],
   "outputs": [],
   "metadata": {}
  }
 ],
 "metadata": {
  "orig_nbformat": 4,
  "language_info": {
   "name": "python",
   "version": "3.8.8",
   "mimetype": "text/x-python",
   "codemirror_mode": {
    "name": "ipython",
    "version": 3
   },
   "pygments_lexer": "ipython3",
   "nbconvert_exporter": "python",
   "file_extension": ".py"
  },
  "kernelspec": {
   "name": "python3",
   "display_name": "Python 3.8.8 64-bit ('base': conda)"
  },
  "interpreter": {
   "hash": "c18c2ce2eeff7956326c52dfc6c88194418eebb74e6de9b69ae4a4f626458f80"
  }
 },
 "nbformat": 4,
 "nbformat_minor": 2
}