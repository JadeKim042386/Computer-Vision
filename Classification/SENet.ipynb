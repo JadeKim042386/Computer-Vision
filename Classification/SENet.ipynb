{
 "cells": [
  {
   "cell_type": "markdown",
   "source": [
    "![Application_SENet](../images/application_SENet.png)"
   ],
   "metadata": {}
  },
  {
   "cell_type": "markdown",
   "source": [
    "## SE layer"
   ],
   "metadata": {}
  },
  {
   "cell_type": "code",
   "execution_count": 1,
   "source": [
    "import torch.nn as nn\r\n",
    "class SELayer(nn.Module):\r\n",
    "    def __init__(self, channel, reduction=16):\r\n",
    "        super(SELayer, self).__init__()\r\n",
    "        # Squeeze\r\n",
    "        self.avg_pool = nn.AdaptiveAvgPool2d(1) # 1x1xChannel\r\n",
    "        # Excitation\r\n",
    "        self.fc = nn.Sequential(\r\n",
    "            nn.Linear(channel, channel // reduction, bias=False),\r\n",
    "            nn.ReLU(inplace=True),\r\n",
    "            nn.Linear(channel // reduction, channel, bias=False),\r\n",
    "            nn.Sigmoid()\r\n",
    "        )\r\n",
    "\r\n",
    "    def forward(self, x):\r\n",
    "        b, c, _, _ = x.size()\r\n",
    "        y = self.avg_pool(x).view(b, c)\r\n",
    "        y = self.fc(y).view(b, c, 1, 1)\r\n",
    "        return x * y.expand_as(x) # y -> x size 만큼 expand"
   ],
   "outputs": [],
   "metadata": {}
  },
  {
   "cell_type": "markdown",
   "source": [
    "## SE Resnet"
   ],
   "metadata": {}
  },
  {
   "cell_type": "code",
   "execution_count": null,
   "source": [
    "class SEBasicBlock(nn.Module):\r\n",
    "    expansion = 1\r\n",
    "\r\n",
    "    def __init__(self, inplanes, planes, stride=1, downsample=None, groups=1,\r\n",
    "                 base_width=64, dilation=1, norm_layer=None,\r\n",
    "                 *, reduction=16):\r\n",
    "        super(SEBasicBlock, self).__init__()\r\n",
    "        self.conv1 = conv3x3(inplanes, planes, stride)\r\n",
    "        self.bn1 = nn.BatchNorm2d(planes)\r\n",
    "        self.relu = nn.ReLU(inplace=True)\r\n",
    "        self.conv2 = conv3x3(planes, planes, 1)\r\n",
    "        self.bn2 = nn.BatchNorm2d(planes)\r\n",
    "        self.se = SELayer(planes, reduction)\r\n",
    "        self.downsample = downsample\r\n",
    "        self.stride = stride\r\n",
    "\r\n",
    "    def forward(self, x):\r\n",
    "        residual = x\r\n",
    "        out = self.conv1(x)\r\n",
    "        out = self.bn1(out)\r\n",
    "        out = self.relu(out)\r\n",
    "\r\n",
    "        out = self.conv2(out)\r\n",
    "        out = self.bn2(out)\r\n",
    "        out = self.se(out)\r\n",
    "\r\n",
    "        if self.downsample is not None:\r\n",
    "            residual = self.downsample(x)\r\n",
    "\r\n",
    "        out += residual\r\n",
    "        out = self.relu(out)\r\n",
    "\r\n",
    "        return out\r\n",
    "\r\n",
    "class SEBottleneck(nn.Module):\r\n",
    "    expansion = 4\r\n",
    "\r\n",
    "    def __init__(self, inplanes, planes, stride=1, downsample=None, groups=1,\r\n",
    "                 base_width=64, dilation=1, norm_layer=None,\r\n",
    "                 *, reduction=16):\r\n",
    "        super(SEBottleneck, self).__init__()\r\n",
    "        self.conv1 = nn.Conv2d(inplanes, planes, kernel_size=1, bias=False)\r\n",
    "        self.bn1 = nn.BatchNorm2d(planes)\r\n",
    "        self.conv2 = nn.Conv2d(planes, planes, kernel_size=3, stride=stride,\r\n",
    "                               padding=1, bias=False)\r\n",
    "        self.bn2 = nn.BatchNorm2d(planes)\r\n",
    "        self.conv3 = nn.Conv2d(planes, planes * 4, kernel_size=1, bias=False)\r\n",
    "        self.bn3 = nn.BatchNorm2d(planes * 4)\r\n",
    "        self.relu = nn.ReLU(inplace=True)\r\n",
    "        self.se = SELayer(planes * 4, reduction)\r\n",
    "        self.downsample = downsample\r\n",
    "        self.stride = stride\r\n",
    "\r\n",
    "    def forward(self, x):\r\n",
    "        residual = x\r\n",
    "\r\n",
    "        out = self.conv1(x)\r\n",
    "        out = self.bn1(out)\r\n",
    "        out = self.relu(out)\r\n",
    "\r\n",
    "        out = self.conv2(out)\r\n",
    "        out = self.bn2(out)\r\n",
    "        out = self.relu(out)\r\n",
    "\r\n",
    "        out = self.conv3(out)\r\n",
    "        out = self.bn3(out)\r\n",
    "        out = self.se(out)\r\n",
    "\r\n",
    "        if self.downsample is not None:\r\n",
    "            residual = self.downsample(x)\r\n",
    "\r\n",
    "        out += residual\r\n",
    "        out = self.relu(out)\r\n",
    "\r\n",
    "        return out"
   ],
   "outputs": [],
   "metadata": {}
  },
  {
   "cell_type": "markdown",
   "source": [
    "## SE Inception"
   ],
   "metadata": {}
  },
  {
   "cell_type": "code",
   "execution_count": null,
   "source": [
    "from torchvision.models.inception import Inception3\r\n",
    "\r\n",
    "\r\n",
    "class SEInception3(nn.Module):\r\n",
    "    def __init__(self, num_classes, aux_logits=True, transform_input=False):\r\n",
    "        super(SEInception3, self).__init__()\r\n",
    "        model = Inception3(num_classes=num_classes, aux_logits=aux_logits,\r\n",
    "                           transform_input=transform_input)\r\n",
    "        model.Mixed_5b.add_module(\"SELayer\", SELayer(192))\r\n",
    "        model.Mixed_5c.add_module(\"SELayer\", SELayer(256))\r\n",
    "        model.Mixed_5d.add_module(\"SELayer\", SELayer(288))\r\n",
    "        model.Mixed_6a.add_module(\"SELayer\", SELayer(288))\r\n",
    "        model.Mixed_6b.add_module(\"SELayer\", SELayer(768))\r\n",
    "        model.Mixed_6c.add_module(\"SELayer\", SELayer(768))\r\n",
    "        model.Mixed_6d.add_module(\"SELayer\", SELayer(768))\r\n",
    "        model.Mixed_6e.add_module(\"SELayer\", SELayer(768))\r\n",
    "        if aux_logits:\r\n",
    "            model.AuxLogits.add_module(\"SELayer\", SELayer(768))\r\n",
    "        model.Mixed_7a.add_module(\"SELayer\", SELayer(768))\r\n",
    "        model.Mixed_7b.add_module(\"SELayer\", SELayer(1280))\r\n",
    "        model.Mixed_7c.add_module(\"SELayer\", SELayer(2048))\r\n",
    "\r\n",
    "        self.model = model\r\n",
    "\r\n",
    "    def forward(self, x):\r\n",
    "        _, _, h, w = x.size()\r\n",
    "        if (h, w) != (299, 299):\r\n",
    "            raise ValueError(\"input size must be (299, 299)\")\r\n",
    "\r\n",
    "        return self.model(x)"
   ],
   "outputs": [],
   "metadata": {}
  }
 ],
 "metadata": {
  "orig_nbformat": 4,
  "language_info": {
   "name": "python",
   "version": "3.8.8",
   "mimetype": "text/x-python",
   "codemirror_mode": {
    "name": "ipython",
    "version": 3
   },
   "pygments_lexer": "ipython3",
   "nbconvert_exporter": "python",
   "file_extension": ".py"
  },
  "kernelspec": {
   "name": "python3",
   "display_name": "Python 3.8.8 64-bit ('base': conda)"
  },
  "interpreter": {
   "hash": "c18c2ce2eeff7956326c52dfc6c88194418eebb74e6de9b69ae4a4f626458f80"
  }
 },
 "nbformat": 4,
 "nbformat_minor": 2
}