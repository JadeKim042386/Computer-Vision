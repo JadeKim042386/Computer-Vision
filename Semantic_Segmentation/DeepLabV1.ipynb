{
 "cells": [
  {
   "cell_type": "markdown",
   "metadata": {},
   "source": [
    "![image.png](http://drive.google.com/uc?export=view&id=1kmX24bL073xoUj2Cd0YwGk7urKGm2lIB)"
   ]
  },
  {
   "cell_type": "code",
   "execution_count": 13,
   "metadata": {
    "ExecuteTime": {
     "end_time": "2021-10-02T11:33:48.145248Z",
     "start_time": "2021-10-02T11:33:48.127249Z"
    }
   },
   "outputs": [],
   "source": [
    "import torch\n",
    "import torch.nn as nn\n",
    "from torch.nn import functional as F\n",
    "\n",
    "def conv_relu(in_ch, out_ch, size=3, rate=1):\n",
    "    conv_relu = nn.Sequential(nn.Conv2d(in_ch, \n",
    "                                        out_ch, \n",
    "                                        kernel_size=size, \n",
    "                                        stride=1,\n",
    "                                        padding=rate,\n",
    "                                        dilation=rate),\n",
    "                             nn.ReLU())\n",
    "    return conv_relu\n",
    "\n",
    "\n",
    "class VGG16(nn.Module):\n",
    "    def __init__(self):\n",
    "        super(VGG16, self).__init__()\n",
    "        self.features1 = nn.Sequential(conv_relu(3, 64, 3, 1),\n",
    "                                      conv_relu(64, 64, 3, 1),\n",
    "                                      nn.MaxPool2d(3, stride=2, padding=1))\n",
    "        self.features2 = nn.Sequential(conv_relu(64, 128, 3, 1),\n",
    "                                      conv_relu(128, 128, 3, 1),\n",
    "                                      nn.MaxPool2d(3, stride=2, padding=1))\n",
    "        self.features3 = nn.Sequential(conv_relu(128, 256, 3, 1),\n",
    "                                      conv_relu(256, 256, 3, 1),\n",
    "                                      conv_relu(256, 256, 3, 1),\n",
    "                                      nn.MaxPool2d(3, stride=2, padding=1))\n",
    "        self.features4 = nn.Sequential(conv_relu(256, 512, 3, 1),\n",
    "                                      conv_relu(512, 512, 3, 1),\n",
    "                                      conv_relu(512, 512, 3, 1),\n",
    "                                      nn.MaxPool2d(3, stride=1, padding=1))\n",
    "                                      # and replace subsequent conv layer r=2\n",
    "        self.features5 = nn.Sequential(conv_relu(512, 512, 3, rate=2),\n",
    "                                      conv_relu(512, 512, 3, rate=2),\n",
    "                                      conv_relu(512, 512, 3, rate=2),\n",
    "                                      nn.MaxPool2d(3, stride=1, padding=1), \n",
    "                                      nn.AvgPool2d(3, stride=1, padding=1)) # 마지막 stride=1로 해서 두 layer 크기 유지 \n",
    "    def forward(self, x):\n",
    "        out = self.features1(x)\n",
    "        out = self.features2(out)\n",
    "        out = self.features3(out)\n",
    "        out = self.features4(out)\n",
    "        out = self.features5(out)\n",
    "        return out\n",
    "\n",
    "class classifier(nn.Module):\n",
    "    def __init__(self, num_classes): \n",
    "        super(classifier, self).__init__()\n",
    "        self.classifier = nn.Sequential(conv_relu(512, 1024, 3, rate=12), \n",
    "                                       nn.Dropout2d(0.5), \n",
    "                                       conv_relu(1024, 1024, 1, 1), \n",
    "                                       nn.Dropout2d(0.5), \n",
    "                                       nn.Conv2d(1024, num_classes, 1)\n",
    "                                       )\n",
    "    def forward(self, x): \n",
    "        out = self.classifier(x)\n",
    "        return out \n",
    "\n",
    "class DeepLabV1(nn.Module):\n",
    "    def __init__(self, backbone, classifier, upsampling=8):\n",
    "        super(DeepLabV1, self).__init__()\n",
    "        self.backbone = backbone\n",
    "        self.classifier = classifier\n",
    "        self.upsampling = upsampling\n",
    "\n",
    "    def forward(self, x):\n",
    "        x = self.backbone(x)\n",
    "        _, _, feature_map_h, feature_map_w = x.size()\n",
    "        x = self.classifier(x)\n",
    "        out = F.interpolate(x, size=(feature_map_h * self.upsampling, feature_map_w * self.upsampling), mode=\"bilinear\")\n",
    "        return out"
   ]
  }
 ],
 "metadata": {
  "hide_input": false,
  "interpreter": {
   "hash": "c18c2ce2eeff7956326c52dfc6c88194418eebb74e6de9b69ae4a4f626458f80"
  },
  "kernelspec": {
   "display_name": "Python 3.8.8 64-bit ('base': conda)",
   "name": "python3"
  },
  "language_info": {
   "codemirror_mode": {
    "name": "ipython",
    "version": 3
   },
   "file_extension": ".py",
   "mimetype": "text/x-python",
   "name": "python",
   "nbconvert_exporter": "python",
   "pygments_lexer": "ipython3",
   "version": "3.8.8"
  },
  "toc": {
   "base_numbering": 1,
   "nav_menu": {},
   "number_sections": true,
   "sideBar": true,
   "skip_h1_title": false,
   "title_cell": "Table of Contents",
   "title_sidebar": "Contents",
   "toc_cell": true,
   "toc_position": {
    "height": "calc(100% - 180px)",
    "left": "10px",
    "top": "150px",
    "width": "394.25px"
   },
   "toc_section_display": true,
   "toc_window_display": true
  }
 },
 "nbformat": 4,
 "nbformat_minor": 4
}
