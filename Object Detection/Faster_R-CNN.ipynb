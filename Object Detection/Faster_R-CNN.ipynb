{
 "cells": [
  {
   "cell_type": "markdown",
   "source": [
    "![Fasterrcnn](../images/fasterrcnn.png)"
   ],
   "metadata": {}
  },
  {
   "cell_type": "markdown",
   "source": [
    "설명 : https://herbwood.tistory.com/11?category=867198  \r\n",
    "코드 : https://github.com/herbwood/pytorch_faster_r_cnn/blob/main/faster_r_cnn.ipynb"
   ],
   "metadata": {}
  },
  {
   "cell_type": "markdown",
   "source": [
    "## Feature extraction by pre-trained VGG16"
   ],
   "metadata": {}
  },
  {
   "cell_type": "code",
   "execution_count": null,
   "source": [
    "model = torchvision.models.vgg16(pretrained=True).to(DEVICE)\r\n",
    "features = list(model.features)\r\n",
    "\r\n",
    "# only collect layers with output feature map size (W, H) < 50\r\n",
    "dummy_img = torch.zeros((1, 3, 800, 800)).float() # test image array\r\n",
    "\r\n",
    "req_features = []\r\n",
    "output = dummy_img.clone().to(DEVICE)\r\n",
    "\r\n",
    "for feature in features:\r\n",
    "    output = feature(output)\r\n",
    "\r\n",
    "    # 50x50 크기가 되는 layer까지만 사용\r\n",
    "    if output.size()[2] < 800//16: # 800/16=50\r\n",
    "        break\r\n",
    "    req_features.append(feature)\r\n",
    "    # out_channels = output.size()[1] # 512\r\n",
    "\r\n",
    "faster_rcnn_feature_extractor = nn.Sequential(*req_features)\r\n",
    "\r\n",
    "output_map = faster_rcnn_feature_extractor(imgTensor)"
   ],
   "outputs": [],
   "metadata": {}
  },
  {
   "cell_type": "markdown",
   "source": [
    "##  Anchor generation layer"
   ],
   "metadata": {}
  },
  {
   "cell_type": "code",
   "execution_count": null,
   "source": [
    "feature_size = 800 // 16 #50\r\n",
    "# 16x16 간격의 grid\r\n",
    "ctr_x = np.arange(16, (feature_size + 1) * 16, 16)\r\n",
    "ctr_y = np.arange(16, (feature_size + 1) * 16, 16)\r\n",
    "\r\n",
    "# Generate Anchors\r\n",
    "ctr = np.zeros((2500, 2)) # 50x50, 2\r\n",
    "\r\n",
    "for i in range(len(ctr_x)):\r\n",
    "    for j in range(len(ctr_y)):\r\n",
    "        ctr[index, 1] = ctr_x[i] - 8 # x center\r\n",
    "        ctr[index, 0] = ctr_y[j] - 8 # y center\r\n",
    "\r\n",
    "ratios = [0.5, 1, 2]\r\n",
    "scales = [8, 16, 32]\r\n",
    "sub_sample = 16\r\n",
    "\r\n",
    "anchor_boxes = np.zeros(((feature_size * feature_size * 9), 4))\r\n",
    "\r\n",
    "for c in ctr:                        # per anchors\r\n",
    "    ctr_y, ctr_x = c\r\n",
    "    for i in range(len(ratios)):     # per ratios\r\n",
    "        for j in range(len(scales)): # per scales\r\n",
    "            \r\n",
    "            # anchor box height, width\r\n",
    "            h = sub_sample * scales[j] * np.sqrt(ratios[i])\r\n",
    "            w = sub_sample * scales[j] * np.sqrt(1./ ratios[i])\r\n",
    "            \r\n",
    "            # anchor box [x1, y1, x2, y2]\r\n",
    "            anchor_boxes[index, 1] = ctr_y - h / 2.\r\n",
    "            anchor_boxes[index, 0] = ctr_x - w / 2.\r\n",
    "            anchor_boxes[index, 3] = ctr_y + h / 2.\r\n",
    "            anchor_boxes[index, 2] = ctr_x + w / 2."
   ],
   "outputs": [],
   "metadata": {}
  },
  {
   "cell_type": "markdown",
   "source": [
    "## Anchor Target layer"
   ],
   "metadata": {}
  },
  {
   "cell_type": "code",
   "execution_count": null,
   "source": [
    "# 이미지 내부에 있는 anchor box만 선택\r\n",
    "index_inside = np.where(\r\n",
    "        (anchor_boxes[:, 0] >= 0) &\r\n",
    "        (anchor_boxes[:, 1] >= 0) &\r\n",
    "        (anchor_boxes[:, 2] <= 800) &\r\n",
    "        (anchor_boxes[:, 3] <= 800))[0]\r\n",
    "\r\n",
    "valid_anchor_boxes = anchor_boxes[index_inside]"
   ],
   "outputs": [],
   "metadata": {}
  },
  {
   "cell_type": "markdown",
   "source": [
    "- Calculate IoUs"
   ],
   "metadata": {}
  },
  {
   "cell_type": "code",
   "execution_count": null,
   "source": [
    "ious = np.zeros((len(valid_anchor_boxes),4), dtype=np.float32)\r\n",
    "\r\n",
    "# anchor boxes\r\n",
    "for i, anchor_box in enumerate(valid_anchor_boxes):\r\n",
    "    xa1, ya1, xa2, ya2 = anchor_box\r\n",
    "    anchor_area = (xa2 - xa1) * (ya2 - ya1)\r\n",
    "    \r\n",
    "    # ground truth boxes\r\n",
    "    for j, gt_box in enumerate(bbox):\r\n",
    "        xb1, yb1, xb2, yb2 = gt_box\r\n",
    "        box_area = (xb2 - xb1) * (yb2 - yb1)\r\n",
    "        \r\n",
    "        inter_x1 = max([xb1, xa1])\r\n",
    "        inter_y1 = max([yb1, ya1])\r\n",
    "        inter_x2 = min([xb2, xa2])\r\n",
    "        inter_y2 = min([yb2, ya2])\r\n",
    "        \r\n",
    "        if (inter_x1 < inter_x2) and (inter_y1 < inter_y2):\r\n",
    "            inter_area = (inter_x2 - inter_x1) * (inter_y2 - inter_y1)\r\n",
    "            iou = inter_area / (anchor_area + box_area - inter_area)\r\n",
    "        else:\r\n",
    "            iou = 0\r\n",
    "        \r\n",
    "        ious[i, j] = iou"
   ],
   "outputs": [],
   "metadata": {}
  },
  {
   "cell_type": "markdown",
   "source": [
    "- Sample positive/negative anchor boxes"
   ],
   "metadata": {}
  },
  {
   "cell_type": "code",
   "execution_count": null,
   "source": [
    "gt_argmax_ious = ious.argmax(axis=0)\r\n",
    "gt_max_ious = ious[gt_argmax_ious, np.arange(ious.shape[1])]\r\n",
    "gt_argmax_ious = np.where(ious == gt_max_ious)[0]\r\n",
    "\r\n",
    "argmax_ious = ious.argmax(axis=1)\r\n",
    "max_ious = ious[np.arange(len(index_inside)), argmax_ious]"
   ],
   "outputs": [],
   "metadata": {}
  },
  {
   "cell_type": "code",
   "execution_count": null,
   "source": [
    "label = np.empty((len(index_inside),), dtype=np.int32)\r\n",
    "label.fill(-1)\r\n",
    "\r\n",
    "pos_iou_threshold = 0.7\r\n",
    "neg_iou_threshold = 0.3\r\n",
    "\r\n",
    "label[gt_argmax_ious] = 1 # IoU가 가장 큰 anchor box\r\n",
    "label[max_ious >= pos_iou_threshold] = 1 # IoU가 0.7 이상\r\n",
    "label[max_ious < neg_iou_threshold] = 0 # IoU가 0.3미만\r\n",
    "\r\n",
    "n_sample = 256\r\n",
    "pos_ratio = 0.5\r\n",
    "n_pos = pos_ratio * n_sample # negative : positive = 1 : 1\r\n",
    "\r\n",
    "pos_index = np.where(label == 1)[0]\r\n",
    "\r\n",
    "# 1:1 비율을 넘으면 나머지 sample은 -1\r\n",
    "if len(pos_index) > n_pos:\r\n",
    "    disable_index = np.random.choice(pos_index,\r\n",
    "                                    size = (len(pos_index) - n_pos),\r\n",
    "                                    replace=False)\r\n",
    "    label[disable_index] = -1"
   ],
   "outputs": [],
   "metadata": {}
  },
  {
   "cell_type": "markdown",
   "source": [
    "## RPN(Region Proposal Network)"
   ],
   "metadata": {}
  },
  {
   "cell_type": "markdown",
   "source": [
    "- Define RPN"
   ],
   "metadata": {}
  },
  {
   "cell_type": "code",
   "execution_count": null,
   "source": [
    "in_channels = 512\r\n",
    "mid_channels = 512\r\n",
    "n_anchor = 9\r\n",
    "\r\n",
    "conv1 = nn.Conv2d(in_channels, mid_channels, 3, 1, 1).to(DEVICE)\r\n",
    "conv1.weight.data.normal_(0, 0.01)\r\n",
    "conv1.bias.data.zero_()\r\n",
    "\r\n",
    "# bounding box regressor\r\n",
    "reg_layer = nn.Conv2d(mid_channels, n_anchor * 4, 1, 1, 0).to(DEVICE)\r\n",
    "reg_layer.weight.data.normal_(0, 0.01)\r\n",
    "reg_layer.bias.data.zero_()\r\n",
    "\r\n",
    "# classifier(object or not)\r\n",
    "cls_layer = nn.Conv2d(mid_channels, n_anchor * 2, 1, 1, 0).to(DEVICE)\r\n",
    "cls_layer.weight.data.normal_(0, 0.01)\r\n",
    "cls_layer.bias.data.zero_()"
   ],
   "outputs": [],
   "metadata": {}
  },
  {
   "cell_type": "markdown",
   "source": [
    "- Classification and Bounding box regression"
   ],
   "metadata": {}
  },
  {
   "cell_type": "code",
   "execution_count": null,
   "source": [
    "x = conv1(output_map.to(DEVICE)) # output_map = faster_rcnn_feature_extractor(imgTensor)\r\n",
    "pred_anchor_locs = reg_layer(x) # bounding box regresor output\r\n",
    "pred_cls_scores = cls_layer(x)  # classifier output \r\n",
    "\r\n",
    "# Convert RPN to predict the position and classification format of the anchor box\r\n",
    "# Position: [1, 36(9*4), 50, 50] => [1, 22500(50*50*9), 4] (dy, dx, dh, dw) \r\n",
    "# Classification: [1, 18(9*2), 50, 50] => [1, 22500, 2] (1, 0)\r\n",
    "pred_anchor_locs = pred_anchor_locs.permute(0, 2, 3, 1).contiguous().view(1, -1, 4)\r\n",
    "pred_cls_scores = pred_cls_scores.permute(0, 2, 3, 1).contiguous()\r\n",
    "\r\n",
    "objectness_score = pred_cls_scores.view(1, 50, 50, 9, 2)[:, :, :, :, 1].contiguous().view(1, -1)\r\n",
    "pred_cls_scores = pred_cls_scores.view(1, -1, 2)"
   ],
   "outputs": [],
   "metadata": {}
  },
  {
   "cell_type": "markdown",
   "source": [
    "## Multi-task loss"
   ],
   "metadata": {}
  },
  {
   "cell_type": "code",
   "execution_count": null,
   "source": [
    "rpn_loc = pred_anchor_locs[0]\r\n",
    "rpn_score = pred_cls_scores[0]\r\n",
    "\r\n",
    "gt_rpn_loc = torch.from_numpy(anchor_locations)\r\n",
    "gt_rpn_score = torch.from_numpy(anchor_labels)"
   ],
   "outputs": [],
   "metadata": {}
  },
  {
   "cell_type": "code",
   "execution_count": null,
   "source": [
    "rpn_cls_loss = F.cross_entropy(rpn_score, gt_rpn_score.long().to(DEVICE), ignore_index = -1)\r\n",
    "\r\n",
    "# only positive samples\r\n",
    "pos = gt_rpn_score > 0\r\n",
    "mask = pos.unsqueeze(1).expand_as(rpn_loc)\r\n",
    "\r\n",
    "# take those bounding boxes whick have positive labels\r\n",
    "mask_loc_preds = rpn_loc[mask].view(-1, 4)\r\n",
    "mask_loc_targets = gt_rpn_loc[mask].view(-1, 4)\r\n",
    "\r\n",
    "x = torch.abs(mask_loc_targets.cpu() - mask_loc_preds.cpu())\r\n",
    "rpn_loc_loss = ((x < 1).float() * 0.5 * x ** 2) + ((x >= 1).float() * (x - 0.5))\r\n",
    "\r\n",
    "rpn_lambda = 10\r\n",
    "N_reg = (gt_rpn_score > 0).float().sum()\r\n",
    "rpn_loc_loss = rpn_loc_loss.sum() / N_reg\r\n",
    "rpn_loss = rpn_cls_loss + (rpn_lambda * rpn_loc_loss)"
   ],
   "outputs": [],
   "metadata": {}
  },
  {
   "cell_type": "code",
   "execution_count": null,
   "source": [
    "# Combining both the rpn_cls_loss and rpn_reg_loss\r\n",
    "rpn_lambda = 10\r\n",
    "N_reg = (gt_rpn_score > 0).float().sum()\r\n",
    "rpn_loc_loss = rpn_loc_loss.sum() / N_reg\r\n",
    "rpn_loss = rpn_cls_loss + (rpn_lambda * rpn_loc_loss)"
   ],
   "outputs": [],
   "metadata": {}
  },
  {
   "cell_type": "markdown",
   "source": [
    "## Proposal layer"
   ],
   "metadata": {}
  },
  {
   "cell_type": "markdown",
   "source": [
    "- Transform anchor boxes"
   ],
   "metadata": {}
  },
  {
   "cell_type": "code",
   "execution_count": null,
   "source": [
    "# Send the 22500 ROIs predicted by RPN to Fast RCNN to predict bbox + classifications\r\n",
    "# First use NMS (Non-maximum supression) to reduce 22500 ROI to 2000\r\n",
    "\r\n",
    "nms_thresh = 0.7  # non-maximum supression (NMS) \r\n",
    "n_train_pre_nms = 12000 # no. of train pre-NMS\r\n",
    "n_train_post_nms = 2000 # after nms, training Fast R-CNN using 2000 RPN proposals\r\n",
    "n_test_pre_nms = 6000\r\n",
    "n_test_post_nms = 300 # During testing we evaluate 300 proposals,\r\n",
    "min_size = 16\r\n",
    "\r\n",
    "# the labelled 22500 anchor boxes\r\n",
    "# format converted from [x1, y1, x2, y2] to [ctrx, ctry, w, h]\r\n",
    "anc_height = anchor_boxes[:, 3] - anchor_boxes[:, 1]\r\n",
    "anc_width = anchor_boxes[:, 2] - anchor_boxes[:, 0]\r\n",
    "anc_ctr_y = anchor_boxes[:, 1] + 0.5 * anc_height\r\n",
    "anc_ctr_x = anchor_boxes[:, 0] + 0.5 * anc_width\r\n",
    "\r\n",
    "# The 22500 anchor boxes location and labels predicted by RPN (convert to numpy)\r\n",
    "# format = (dx, dy, dw, dh)\r\n",
    "pred_anchor_locs_numpy = pred_anchor_locs[0].cpu().data.numpy()\r\n",
    "objectness_score_numpy = objectness_score[0].cpu().data.numpy()\r\n",
    "\r\n",
    "dy = pred_anchor_locs_numpy[:, 1::4]\r\n",
    "dx = pred_anchor_locs_numpy[:, 0::4]\r\n",
    "dh = pred_anchor_locs_numpy[:, 3::4]\r\n",
    "dw = pred_anchor_locs_numpy[:, 2::4]\r\n",
    "\r\n",
    "# ctr_y = dy predicted by RPN * anchor_h + anchor_cy\r\n",
    "# ctr_x similar\r\n",
    "# h = exp(dh predicted by RPN) * anchor_h\r\n",
    "# w similar\r\n",
    "ctr_y = dy * anc_height[:, np.newaxis] + anc_ctr_y[:, np.newaxis]\r\n",
    "ctr_x = dx * anc_width[:, np.newaxis] + anc_ctr_x[:, np.newaxis]\r\n",
    "h = np.exp(dh) * anc_height[:, np.newaxis]\r\n",
    "w = np.exp(dw) * anc_width[:, np.newaxis]\r\n",
    "\r\n",
    "roi = np.zeros(pred_anchor_locs_numpy.shape, dtype=anchor_locs.dtype)\r\n",
    "roi[:, 0::4] = ctr_x - 0.5 * w\r\n",
    "roi[:, 1::4] = ctr_y - 0.5 * h\r\n",
    "roi[:, 2::4] = ctr_x + 0.5 * w\r\n",
    "roi[:, 3::4] = ctr_y + 0.5 * h\r\n",
    "\r\n",
    "# clip the predcited boxes to the image\r\n",
    "img_size = (800, 800)\r\n",
    "roi[:, slice(0, 4, 2)] = np.clip(roi[:, slice(0, 4, 2)], 0, img_size[0]) # [:, 0, 2]\r\n",
    "roi[:, slice(1, 4, 2)] = np.clip(roi[:, slice(1, 4, 2)], 0, img_size[1]) # [:, 1, 3]\r\n",
    "\r\n",
    "# remove predicted boxes with either height or width < threshold\r\n",
    "hs = roi[:, 3] - roi[:, 1]\r\n",
    "ws = roi[:, 2] - roi[:, 0]\r\n",
    "keep = np.where((hs >= min_size) & (ws >= min_size))[0]\r\n",
    "roi = roi[keep, :]\r\n",
    "score = objectness_score_numpy[keep]\r\n",
    "\r\n",
    "order = score.ravel().argsort()[::-1]\r\n",
    "order = order[:n_train_pre_nms]\r\n",
    "roi = roi[order, :]\r\n",
    "\r\n",
    "order = order.argsort()[::-1]\r\n",
    "keep = []\r\n",
    "\r\n",
    "while (order.size > 0):\r\n",
    "  i = order[0] # take the 1st elt in roder and append to keep\r\n",
    "  keep.append(i)\r\n",
    "\r\n",
    "  xx1 = np.maximum(x1[i], x1[order[1:]])\r\n",
    "  yy1 = np.maximum(y1[i], y1[order[1:]])\r\n",
    "  xx2 = np.minimum(x2[i], x2[order[1:]])\r\n",
    "  yy2 = np.minimum(y2[i], y2[order[1:]])\r\n",
    "\r\n",
    "  w = np.maximum(0.0, xx2 - xx1 + 1)\r\n",
    "  h = np.maximum(0.0, yy2 - yy1 + 1)\r\n",
    "\r\n",
    "  inter = w * h\r\n",
    "  ovr = inter / (areas[i] + areas[order[1:]] - inter)\r\n",
    "  inds = np.where(ovr <= nms_thresh)[0]\r\n",
    "  order = order[inds + 1]\r\n",
    "\r\n",
    "keep = keep[:n_train_post_nms] # while training/testing, use accordingly\r\n",
    "roi = roi[keep]"
   ],
   "outputs": [],
   "metadata": {}
  },
  {
   "cell_type": "markdown",
   "source": [
    "## Proposal Target layer"
   ],
   "metadata": {}
  },
  {
   "cell_type": "code",
   "execution_count": null,
   "source": [
    "n_sample = 128 # number of samples from roi\r\n",
    "pos_ratio = 0.25 # number of positive examples out of the n_samples\r\n",
    "pos_iou_thresh = 0.5 # min iou of region proposal with any ground truth object to consider it as positive label\r\n",
    "neg_iou_thresh_hi = 0.5 # iou 0~0.5 is considered as negative (0, background)\r\n",
    "neg_iou_thresh_lo = 0.0\r\n",
    "\r\n",
    "# fine the iou of each ground truth object with the region proposals\r\n",
    "ious = np.empty((len(roi), bbox.shape[0]), dtype = np.float32)\r\n",
    "ious.fill(0)\r\n",
    "\r\n",
    "for num1, i in enumerate(roi):\r\n",
    "  ya1, xa1, ya2, xa2 = i\r\n",
    "  anchor_area = (ya2 - ya1) * (xa2 - xa1)\r\n",
    "\r\n",
    "  for num2, j in enumerate(bbox):\r\n",
    "    yb1, xb1, yb2, xb2 = j\r\n",
    "    box_area = (yb2 - yb1) * (xb2 - xb1)\r\n",
    "    inter_x1 = max([xb1, xa1])\r\n",
    "    inter_y1 = max([yb1, ya1])\r\n",
    "    inter_x2 = min([xb2, xa2])\r\n",
    "    inter_y2 = min([yb2, ya2])\r\n",
    "\r\n",
    "    if (inter_x1 < inter_x2) and (inter_y1 < inter_y2):\r\n",
    "      inter_area = (inter_y2 - inter_y1) * (inter_x2 - inter_x1)\r\n",
    "      iou = inter_area / (anchor_area + box_area - inter_area)\r\n",
    "    else:\r\n",
    "      iou = 0\r\n",
    "    ious[num1, num2] = iou\r\n",
    "\r\n",
    "\r\n",
    "# find out whick ground truth has high IoU for each region proposal\r\n",
    "# also find the maximum IoU\r\n",
    "gt_assignment = ious.argmax(axis=1)\r\n",
    "max_iou = ious.max(axis=1)\r\n",
    "\r\n",
    "# assign the labels to each proposal\r\n",
    "gt_roi_label = labels[gt_assignment]\r\n",
    "\r\n",
    "# select the foreground rois as pre the pos_iou_thresh\r\n",
    "# and n_sample x pos_ratio (128 x 0.25 = 32) foreground samples\r\n",
    "pos_roi_per_image = 32\r\n",
    "pos_index = np.where(max_iou >= pos_iou_thresh)[0]\r\n",
    "pos_roi_per_this_image = int(min(pos_roi_per_image, pos_index.size))\r\n",
    "\r\n",
    "if pos_index.size > 0:\r\n",
    "  pos_index = np.random.choice(\r\n",
    "      pos_index, size=pos_roi_per_this_image, replace=False)\r\n",
    "\r\n",
    "# similarly we do for negative(background) region proposals\r\n",
    "neg_index = np.where((max_iou < neg_iou_thresh_hi) &\r\n",
    "                     (max_iou >= neg_iou_thresh_lo))[0]\r\n",
    "neg_roi_per_this_image = n_sample - pos_roi_per_this_image\r\n",
    "neg_roi_per_this_image = int(min(neg_roi_per_this_image, neg_index.size))\r\n",
    "\r\n",
    "if neg_index.size > 0:\r\n",
    "  neg_index = np.random.choice(\r\n",
    "    neg_index, size = neg_roi_per_this_image, replace=False)\r\n",
    "\r\n",
    "# now we gather positive samples index and negative samples index\r\n",
    "# their respective labels and region proposals\r\n",
    "keep_index = np.append(pos_index, neg_index)\r\n",
    "gt_roi_labels = gt_roi_label[keep_index]\r\n",
    "gt_roi_labels[pos_roi_per_this_image:] = 0 # negative labels => 0\r\n",
    "sample_roi = roi[keep_index]\r\n",
    "\r\n",
    "# pick the ground truth objects for these sample_roi and\r\n",
    "# later parameterized as we have done while assigning locations to \r\n",
    "# anchor boxes\r\n",
    "bbox_for_sampled_roi = bbox[gt_assignment[keep_index]]\r\n",
    "\r\n",
    "width = sample_roi[:, 2] - sample_roi[:, 0]\r\n",
    "height = sample_roi[:, 3] - sample_roi[:, 1]\r\n",
    "ctr_x = sample_roi[:, 0] + 0.5 * width\r\n",
    "ctr_y = sample_roi[:, 1] + 0.5 * height\r\n",
    "\r\n",
    "base_width = bbox_for_sampled_roi[:, 2] - bbox_for_sampled_roi[:, 0]\r\n",
    "base_height = bbox_for_sampled_roi[:, 3] - bbox_for_sampled_roi[:, 1]\r\n",
    "base_ctr_x = bbox_for_sampled_roi[:, 0] + 0.5 * base_width\r\n",
    "base_ctr_y = bbox_for_sampled_roi[:, 1] + 0.5 * base_height\r\n",
    "\r\n",
    "\r\n",
    "# transform anchor boxes\r\n",
    "eps = np.finfo(height.dtype).eps\r\n",
    "height = np.maximum(height, eps)\r\n",
    "width = np.maximum(width, eps)\r\n",
    "\r\n",
    "dx = (base_ctr_x - ctr_x) / width\r\n",
    "dy = (base_ctr_y - ctr_y) / height\r\n",
    "dw = np.log(base_width / width)\r\n",
    "dh = np.log(base_height / height)\r\n",
    "\r\n",
    "gt_roi_locs = np.vstack((dx, dy, dw, dh)).transpose()"
   ],
   "outputs": [],
   "metadata": {}
  },
  {
   "cell_type": "markdown",
   "source": [
    "## RoI pooling"
   ],
   "metadata": {}
  },
  {
   "cell_type": "code",
   "execution_count": null,
   "source": [
    "# Take out the features of 128 ROI samples and \r\n",
    "# use max pooling to adjust to the same size, H=7, W=7 (ROI Pooling)\r\n",
    "rois = torch.from_numpy(sample_roi).float()\r\n",
    "roi_indices = 0 * np.ones((len(rois),), dtype=np.int32)\r\n",
    "roi_indices = torch.from_numpy(roi_indices).float()\r\n",
    "\r\n",
    "indices_and_rois = torch.cat([roi_indices[:, None], rois], dim=1)\r\n",
    "xy_indices_and_rois = indices_and_rois[:, [0, 2, 1, 4, 3]]\r\n",
    "indices_and_rois = xy_indices_and_rois.contiguous()\r\n",
    "\r\n",
    "size = (7, 7)\r\n",
    "adaptive_max_pool = nn.AdaptiveMaxPool2d(size[0], size[1])\r\n",
    "\r\n",
    "output = []\r\n",
    "rois = indices_and_rois.data.float()\r\n",
    "rois[:, 1:].mul_(1/16.0) # sub-sampling ratio\r\n",
    "rois = rois.long()\r\n",
    "num_rois = rois.size(0)\r\n",
    "\r\n",
    "for i in range(num_rois):\r\n",
    "  roi = rois[i]\r\n",
    "  im_idx = roi[0]\r\n",
    "  im = output_map.narrow(0, im_idx, 1)[..., roi[1]:(roi[3]+1), roi[2]:(roi[4]+1)]\r\n",
    "  tmp = adaptive_max_pool(im)\r\n",
    "  output.append(tmp[0])\r\n",
    "\r\n",
    "output = torch.cat(output, 0)\r\n",
    "\r\n",
    "# Reshape the tensor so that we can pass it through the feed forward layer.\r\n",
    "k = output.view(output.size(0), -1)"
   ],
   "outputs": [],
   "metadata": {}
  },
  {
   "cell_type": "markdown",
   "source": [
    "## Fast R-CNN"
   ],
   "metadata": {}
  },
  {
   "cell_type": "code",
   "execution_count": null,
   "source": [
    "# 128 boxes + features (7x7x512) of ROI samples are sent to \r\n",
    "# Detection network to predict the objects bounding box and clas of the input image\r\n",
    "\r\n",
    "roi_head_classifier = nn.Sequential(*[nn.Linear(25088, 4096), nn.Linear(4096, 4096)]).to(DEVICE)\r\n",
    "cls_loc = nn.Linear(4096, 2 * 4).to(DEVICE) # 1 class, 1 background, 4 coordiinates\r\n",
    "cls_loc.weight.data.normal_(0, 0.01)\r\n",
    "cls_loc.bias.data.zero_()\r\n",
    "\r\n",
    "score = nn.Linear(4096, 2).to(DEVICE) # 1 class, 1 background\r\n",
    "\r\n",
    "# passing the output of roi pooling to RoI head\r\n",
    "\r\n",
    "k = roi_head_classifier(k.to(DEVICE))\r\n",
    "roi_cls_loc = cls_loc(k)\r\n",
    "roi_cls_score = score(k)\r\n",
    "\r\n",
    "# Converting ground truth to torch variable\r\n",
    "gt_roi_loc = torch.from_numpy(gt_roi_locs)\r\n",
    "gt_roi_label = torch.from_numpy(np.float32(gt_roi_labels)).long()\r\n",
    "print(gt_roi_loc.shape, gt_roi_label.shape)\r\n",
    "\r\n",
    "#Classification loss\r\n",
    "roi_cls_loss = F.cross_entropy(roi_cls_score.cpu(), gt_roi_label.cpu(), ignore_index=-1)\r\n",
    "\r\n",
    "# regression loss\r\n",
    "n_sample = roi_cls_loc.shape[0]\r\n",
    "roi_loc = roi_cls_loc.view(n_sample, -1, 4)\r\n",
    "\r\n",
    "roi_loc = roi_loc[torch.arange(0, n_sample).long(), gt_roi_label]\r\n",
    "\r\n",
    "# for regression we use smooth l1 loss as defined in the Fast R-CNN paper\r\n",
    "pos = gt_roi_label > 0\r\n",
    "mask = pos.unsqueeze(1).expand_as(roi_loc)\r\n",
    "\r\n",
    "# take those bounding boxes which have positive labels\r\n",
    "mask_loc_preds = roi_loc[mask].view(-1, 4)\r\n",
    "mask_loc_targets = gt_roi_loc[mask].view(-1, 4)\r\n",
    "\r\n",
    "x = torch.abs(mask_loc_targets.cpu() - mask_loc_preds.cpu())\r\n",
    "roi_loc_loss = ((x < 1).float() * 0.5 * x ** 2) + ((x >= 1).float() * (x - 0.5))\r\n",
    "\r\n",
    "# Multi-task loss\r\n",
    "roi_lambda = 10.\r\n",
    "roi_loss = roi_cls_loss + (roi_lambda * roi_loc_loss)\r\n",
    "\r\n",
    "total_loss = rpn_loss + roi_loss"
   ],
   "outputs": [],
   "metadata": {}
  }
 ],
 "metadata": {
  "orig_nbformat": 4,
  "language_info": {
   "name": "python",
   "version": "3.8.8",
   "mimetype": "text/x-python",
   "codemirror_mode": {
    "name": "ipython",
    "version": 3
   },
   "pygments_lexer": "ipython3",
   "nbconvert_exporter": "python",
   "file_extension": ".py"
  },
  "kernelspec": {
   "name": "python3",
   "display_name": "Python 3.8.8 64-bit ('base': conda)"
  },
  "interpreter": {
   "hash": "c18c2ce2eeff7956326c52dfc6c88194418eebb74e6de9b69ae4a4f626458f80"
  }
 },
 "nbformat": 4,
 "nbformat_minor": 2
}